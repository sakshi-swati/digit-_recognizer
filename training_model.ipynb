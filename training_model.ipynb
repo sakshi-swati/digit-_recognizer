{
  "nbformat": 4,
  "nbformat_minor": 0,
  "metadata": {
    "colab": {
      "name": "training model.ipynb",
      "provenance": [],
      "collapsed_sections": [],
      "authorship_tag": "ABX9TyPUJBxMU/JPwYthkinHXBGx"
    },
    "kernelspec": {
      "name": "python3",
      "display_name": "Python 3"
    },
    "language_info": {
      "name": "python"
    }
  },
  "cells": [
    {
      "cell_type": "markdown",
      "metadata": {
        "id": "ab_4sCYJL79S"
      },
      "source": [
        "*MINOR PROJECT*\n",
        "\n",
        "\n",
        "AI project based : Digit recognizer based on ANN\n",
        "\n"
      ]
    },
    {
      "cell_type": "code",
      "metadata": {
        "id": "U62HLk-wm9L-",
        "colab": {
          "base_uri": "https://localhost:8080/"
        },
        "outputId": "4c9f247e-fbe1-431f-daaa-98620ddb3ef6"
      },
      "source": [
        "#gathering MNIST dataset\n",
        "import tensorflow as tf\n",
        "from tensorflow import keras\n",
        "(x_train, y_train), (x_test, y_test)=tf.keras.datasets.mnist.load_data(path=\"mnist.npz\")"
      ],
      "execution_count": null,
      "outputs": [
        {
          "output_type": "stream",
          "text": [
            "Downloading data from https://storage.googleapis.com/tensorflow/tf-keras-datasets/mnist.npz\n",
            "11493376/11490434 [==============================] - 0s 0us/step\n"
          ],
          "name": "stdout"
        }
      ]
    },
    {
      "cell_type": "code",
      "metadata": {
        "colab": {
          "base_uri": "https://localhost:8080/"
        },
        "id": "eMsT9tEJnH5-",
        "outputId": "5340bbc1-f2f4-4fae-d993-8802cd8fecee"
      },
      "source": [
        "#There are 60000 training sample and 10000 testing sample and with the pixel of 28*28\n",
        "print(x_train.shape)\n",
        "print(x_test.shape)\n",
        "print(y_train.shape)\n",
        "print(y_test.shape)"
      ],
      "execution_count": null,
      "outputs": [
        {
          "output_type": "stream",
          "text": [
            "(60000, 28, 28)\n",
            "(10000, 28, 28)\n",
            "(60000,)\n",
            "(10000,)\n"
          ],
          "name": "stdout"
        }
      ]
    },
    {
      "cell_type": "code",
      "metadata": {
        "id": "YAUD1rq5nlBb",
        "colab": {
          "base_uri": "https://localhost:8080/"
        },
        "outputId": "f25354f5-f02c-4f63-dc66-f87dc847ac11"
      },
      "source": [
        "label=\"0 1 2 3 4 5 6 7 8 9\"\n",
        "label=label.split()\n",
        "label"
      ],
      "execution_count": null,
      "outputs": [
        {
          "output_type": "execute_result",
          "data": {
            "text/plain": [
              "['0', '1', '2', '3', '4', '5', '6', '7', '8', '9']"
            ]
          },
          "metadata": {
            "tags": []
          },
          "execution_count": 3
        }
      ]
    },
    {
      "cell_type": "code",
      "metadata": {
        "colab": {
          "base_uri": "https://localhost:8080/",
          "height": 282
        },
        "id": "DKHXUjGQ5da4",
        "outputId": "cb193dd5-9ea8-467e-f3b6-8595db5c5c07"
      },
      "source": [
        "import random\n",
        "import matplotlib.pyplot as plt\n",
        "i=random.randint(1,60000)\n",
        "plt.imshow(x_train[i],cmap='gray')\n",
        "op=y_train[i]\n",
        "print(label[op])"
      ],
      "execution_count": null,
      "outputs": [
        {
          "output_type": "stream",
          "text": [
            "1\n"
          ],
          "name": "stdout"
        },
        {
          "output_type": "display_data",
          "data": {
            "image/png": "[encoded data removed]",
            "text/plain": [
              "<Figure size 432x288 with 1 Axes>"
            ]
          },
          "metadata": {
            "tags": [],
            "needs_background": "light"
          }
        }
      ]
    },
    {
      "cell_type": "code",
      "metadata": {
        "id": "9ZbU4iEX7F0r"
      },
      "source": [
        "#normalization\n",
        "x_train=x_train/255\n",
        "x_test=x_test/255"
      ],
      "execution_count": null,
      "outputs": []
    },
    {
      "cell_type": "code",
      "metadata": {
        "id": "oGtLy7Z1Fo_O"
      },
      "source": [
        "#Neuro Network Architecture\n",
        "#classification problem:\n",
        "#Hidden Layer activation function:Relu\n",
        "#Output LAyer activation function:softmax\n",
        "#loss function: sparse categorical entropy"
      ],
      "execution_count": null,
      "outputs": []
    },
    {
      "cell_type": "code",
      "metadata": {
        "id": "S7-wf7uCH-GR"
      },
      "source": [
        "from keras.layers import Dense\n",
        "from keras.layers import Flatten\n",
        "model=keras.Sequential()\n",
        "model.add(Flatten(input_shape=(28,28)))\n",
        "model.add(Dense(392,activation='relu'))\n",
        "model.add(Dense(10,activation='softmax'))"
      ],
      "execution_count": null,
      "outputs": []
    },
    {
      "cell_type": "code",
      "metadata": {
        "id": "OM-qaUyvPVGh"
      },
      "source": [
        "#compiling the model\n",
        "from keras.utils import to_categorical\n",
        "model.compile(optimizer='adam',loss='sparse_categorical_crossentropy',metrics=['accuracy'])"
      ],
      "execution_count": null,
      "outputs": []
    },
    {
      "cell_type": "code",
      "metadata": {
        "colab": {
          "base_uri": "https://localhost:8080/"
        },
        "id": "_VXw2KlMQUtm",
        "outputId": "99da2e4e-81b1-4a61-a1ef-012b394ad097"
      },
      "source": [
        "# Fit the model\n",
        "from keras.callbacks import EarlyStopping\n",
        "early_stop=EarlyStopping(mode='min',verbose=1,patience=5)\n",
        "history=model.fit(x_train,y_train,epochs=12,validation_data=(x_train,y_train),callbacks=[early_stop])"
      ],
      "execution_count": null,
      "outputs": [
        {
          "output_type": "stream",
          "text": [
            "Epoch 1/10\n",
            "1875/1875 [==============================] - 10s 5ms/step - loss: 0.3496 - accuracy: 0.8991 - val_loss: 0.1017 - val_accuracy: 0.9699\n",
            "Epoch 2/10\n",
            "1875/1875 [==============================] - 9s 5ms/step - loss: 0.0879 - accuracy: 0.9739 - val_loss: 0.0607 - val_accuracy: 0.9810\n",
            "Epoch 3/10\n",
            "1875/1875 [==============================] - 9s 5ms/step - loss: 0.0546 - accuracy: 0.9832 - val_loss: 0.0403 - val_accuracy: 0.9877\n",
            "Epoch 4/10\n",
            "1875/1875 [==============================] - 9s 5ms/step - loss: 0.0374 - accuracy: 0.9884 - val_loss: 0.0324 - val_accuracy: 0.9898\n",
            "Epoch 5/10\n",
            "1875/1875 [==============================] - 9s 5ms/step - loss: 0.0279 - accuracy: 0.9908 - val_loss: 0.0157 - val_accuracy: 0.9955\n",
            "Epoch 6/10\n",
            "1875/1875 [==============================] - 9s 5ms/step - loss: 0.0178 - accuracy: 0.9949 - val_loss: 0.0130 - val_accuracy: 0.9961\n",
            "Epoch 7/10\n",
            "1875/1875 [==============================] - 9s 5ms/step - loss: 0.0164 - accuracy: 0.9948 - val_loss: 0.0118 - val_accuracy: 0.9963\n",
            "Epoch 8/10\n",
            "1875/1875 [==============================] - 9s 5ms/step - loss: 0.0120 - accuracy: 0.9961 - val_loss: 0.0082 - val_accuracy: 0.9976\n",
            "Epoch 9/10\n",
            "1875/1875 [==============================] - 9s 5ms/step - loss: 0.0105 - accuracy: 0.9966 - val_loss: 0.0061 - val_accuracy: 0.9982\n",
            "Epoch 10/10\n",
            "1875/1875 [==============================] - 9s 5ms/step - loss: 0.0087 - accuracy: 0.9973 - val_loss: 0.0081 - val_accuracy: 0.9973\n"
          ],
          "name": "stdout"
        }
      ]
    },
    {
      "cell_type": "code",
      "metadata": {
        "colab": {
          "base_uri": "https://localhost:8080/",
          "height": 282
        },
        "id": "rMbqzHtVQtsC",
        "outputId": "17a4f5f3-eed1-47e8-f859-8ae696e67e22"
      },
      "source": [
        "import pandas as pd\n",
        "loss=pd.DataFrame(model.history.history)\n",
        "loss.plot()"
      ],
      "execution_count": null,
      "outputs": [
        {
          "output_type": "execute_result",
          "data": {
            "text/plain": [
              "<matplotlib.axes._subplots.AxesSubplot at 0x7f599bb11790>"
            ]
          },
          "metadata": {
            "tags": []
          },
          "execution_count": 10
        },
        {
          "output_type": "display_data",
          "data": {
            "image/png": "[encoded data removed]",
            "text/plain": [
              "<Figure size 432x288 with 1 Axes>"
            ]
          },
          "metadata": {
            "tags": [],
            "needs_background": "light"
          }
        }
      ]
    },
    {
      "cell_type": "code",
      "metadata": {
        "colab": {
          "base_uri": "https://localhost:8080/",
          "height": 282
        },
        "id": "5GW1CLBvTvZ_",
        "outputId": "b8fcbdd3-6370-428d-af34-f642aae9b229"
      },
      "source": [
        "import matplotlib.pyplot as plt\n",
        "\n",
        "plt.plot(history.history['loss'])\n",
        "plt.plot(history.history['val_loss'])"
      ],
      "execution_count": null,
      "outputs": [
        {
          "output_type": "execute_result",
          "data": {
            "text/plain": [
              "[<matplotlib.lines.Line2D at 0x7f5987055ed0>]"
            ]
          },
          "metadata": {
            "tags": []
          },
          "execution_count": 11
        },
        {
          "output_type": "display_data",
          "data": {
            "image/png": "[encoded data removed]",
            "text/plain": [
              "<Figure size 432x288 with 1 Axes>"
            ]
          },
          "metadata": {
            "tags": [],
            "needs_background": "light"
          }
        }
      ]
    },
    {
      "cell_type": "code",
      "metadata": {
        "colab": {
          "base_uri": "https://localhost:8080/"
        },
        "id": "pIG-qXhubit6",
        "outputId": "402f8d73-21d6-4283-950e-8437812b0e18"
      },
      "source": [
        "y_test[:10]"
      ],
      "execution_count": null,
      "outputs": [
        {
          "output_type": "execute_result",
          "data": {
            "text/plain": [
              "array([7, 2, 1, 0, 4, 1, 4, 9, 5, 9], dtype=uint8)"
            ]
          },
          "metadata": {
            "tags": []
          },
          "execution_count": 12
        }
      ]
    },
    {
      "cell_type": "code",
      "metadata": {
        "colab": {
          "base_uri": "https://localhost:8080/"
        },
        "id": "c-7b4UJNZV-5",
        "outputId": "f13d436b-9faf-4528-9e8c-a6581b1bb5b3"
      },
      "source": [
        "import numpy as np\n",
        "\n",
        "y_predict=model.predict(x_test)\n",
        "y_predict=np.argmax(y_predict,axis=1)\n",
        "y_predict[:10]"
      ],
      "execution_count": null,
      "outputs": [
        {
          "output_type": "execute_result",
          "data": {
            "text/plain": [
              "array([7, 2, 1, 0, 4, 1, 4, 9, 5, 9])"
            ]
          },
          "metadata": {
            "tags": []
          },
          "execution_count": 13
        }
      ]
    },
    {
      "cell_type": "code",
      "metadata": {
        "colab": {
          "base_uri": "https://localhost:8080/"
        },
        "id": "5AkmtHI3aBi-",
        "outputId": "685ef4a1-b719-4f6e-b5d4-6ecd117aba86"
      },
      "source": [
        "from sklearn.metrics import accuracy_score,confusion_matrix\n",
        "confusion_matrix(y_predict,y_test)"
      ],
      "execution_count": null,
      "outputs": [
        {
          "output_type": "execute_result",
          "data": {
            "text/plain": [
              "array([[ 973,    0,    6,    0,    0,    2,    2,    2,    3,    2],\n",
              "       [   1, 1126,    0,    0,    2,    0,    3,    1,    1,    2],\n",
              "       [   0,    1,  995,    0,    4,    0,    0,    4,    2,    0],\n",
              "       [   2,    3,    8,  993,    1,    7,    1,    0,    9,    4],\n",
              "       [   0,    0,    2,    0,  957,    1,    5,    0,    2,    3],\n",
              "       [   0,    0,    0,    3,    0,  873,    7,    0,    5,    2],\n",
              "       [   1,    1,    2,    0,    1,    2,  940,    0,    2,    0],\n",
              "       [   1,    2,   13,    4,    3,    0,    0, 1014,    3,    6],\n",
              "       [   2,    2,    5,    3,    1,    2,    0,    1,  942,    0],\n",
              "       [   0,    0,    1,    7,   13,    5,    0,    6,    5,  990]])"
            ]
          },
          "metadata": {
            "tags": []
          },
          "execution_count": 14
        }
      ]
    },
    {
      "cell_type": "code",
      "metadata": {
        "colab": {
          "base_uri": "https://localhost:8080/"
        },
        "id": "eADc4KNYaati",
        "outputId": "95405fda-0148-42a0-a480-5c419e9fd256"
      },
      "source": [
        "accuracy_score(y_predict,y_test)"
      ],
      "execution_count": null,
      "outputs": [
        {
          "output_type": "execute_result",
          "data": {
            "text/plain": [
              "0.9803"
            ]
          },
          "metadata": {
            "tags": []
          },
          "execution_count": 15
        }
      ]
    },
    {
      "cell_type": "code",
      "metadata": {
        "id": "-1hyU0eMaq-z"
      },
      "source": [
        "#saving the model\n",
        "model.save(\"digit.hdf5\")"
      ],
      "execution_count": null,
      "outputs": []
    }
  ]
}